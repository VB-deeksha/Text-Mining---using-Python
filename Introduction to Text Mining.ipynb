{
 "cells": [
  {
   "cell_type": "markdown",
   "id": "50eb47e0",
   "metadata": {},
   "source": [
    "## Cleaning text"
   ]
  },
  {
   "cell_type": "code",
   "execution_count": 1,
   "id": "e924f711",
   "metadata": {},
   "outputs": [
    {
     "data": {
      "text/plain": [
       "['',\n",
       " '',\n",
       " 'A',\n",
       " 'quick',\n",
       " 'brown',\n",
       " 'fox',\n",
       " 'jumped',\n",
       " 'over',\n",
       " 'the',\n",
       " 'lazy',\n",
       " 'dog.',\n",
       " '']"
      ]
     },
     "execution_count": 1,
     "metadata": {},
     "output_type": "execute_result"
    }
   ],
   "source": [
    "text1 = '  A quick brown fox jumped over the lazy dog. '\n",
    "text1.split(' ')"
   ]
  },
  {
   "cell_type": "code",
   "execution_count": 2,
   "id": "1ade8f07",
   "metadata": {},
   "outputs": [
    {
     "data": {
      "text/plain": [
       "['A', 'quick', 'brown', 'fox', 'jumped', 'over', 'the', 'lazy', 'dog.']"
      ]
     },
     "execution_count": 2,
     "metadata": {},
     "output_type": "execute_result"
    }
   ],
   "source": [
    "text2 = text1.strip()\n",
    "text2.split(' ')"
   ]
  },
  {
   "cell_type": "markdown",
   "id": "3547b4ba",
   "metadata": {},
   "source": [
    "## Changing text"
   ]
  },
  {
   "cell_type": "markdown",
   "id": "bba8ca54",
   "metadata": {},
   "source": [
    "### • Find and replace"
   ]
  },
  {
   "cell_type": "code",
   "execution_count": 3,
   "id": "c5dc97ca",
   "metadata": {},
   "outputs": [
    {
     "data": {
      "text/plain": [
       "10"
      ]
     },
     "execution_count": 3,
     "metadata": {},
     "output_type": "execute_result"
    }
   ],
   "source": [
    "text3 = 'A quick brown fox jumped over the lazy dog.'\n",
    "text3.find('o')"
   ]
  },
  {
   "cell_type": "code",
   "execution_count": 4,
   "id": "6b3c07d4",
   "metadata": {},
   "outputs": [
    {
     "data": {
      "text/plain": [
       "40"
      ]
     },
     "execution_count": 4,
     "metadata": {},
     "output_type": "execute_result"
    }
   ],
   "source": [
    "text3.rfind('o')"
   ]
  },
  {
   "cell_type": "code",
   "execution_count": 5,
   "id": "26871bd9",
   "metadata": {},
   "outputs": [
    {
     "data": {
      "text/plain": [
       "'A quick brOwn fOx jumped Over the lazy dOg.'"
      ]
     },
     "execution_count": 5,
     "metadata": {},
     "output_type": "execute_result"
    }
   ],
   "source": [
    "text3.replace('o','O')"
   ]
  },
  {
   "cell_type": "markdown",
   "id": "ab57f856",
   "metadata": {},
   "source": [
    "## Handling larger texts"
   ]
  },
  {
   "cell_type": "markdown",
   "id": "333be4f1",
   "metadata": {},
   "source": [
    "### • Reading files line by line"
   ]
  },
  {
   "cell_type": "code",
   "execution_count": 10,
   "id": "89518fa0",
   "metadata": {},
   "outputs": [
    {
     "data": {
      "text/plain": [
       "'Project Scenario\\n'"
      ]
     },
     "execution_count": 10,
     "metadata": {},
     "output_type": "execute_result"
    }
   ],
   "source": [
    "f = open(r\"C:\\Users\\vaish\\OneDrive\\Documents\\Project Scenario.txt\",'r')\n",
    "f.readline()"
   ]
  },
  {
   "cell_type": "markdown",
   "id": "56a5bf86",
   "metadata": {},
   "source": [
    "### • Reading the full file"
   ]
  },
  {
   "cell_type": "code",
   "execution_count": 11,
   "id": "2d2ebba6",
   "metadata": {},
   "outputs": [
    {
     "data": {
      "text/plain": [
       "552"
      ]
     },
     "execution_count": 11,
     "metadata": {},
     "output_type": "execute_result"
    }
   ],
   "source": [
    "f.seek(0)\n",
    "text4 = f.read()\n",
    "len(text4)"
   ]
  },
  {
   "cell_type": "code",
   "execution_count": 12,
   "id": "5f3de362",
   "metadata": {},
   "outputs": [
    {
     "data": {
      "text/plain": [
       "1"
      ]
     },
     "execution_count": 12,
     "metadata": {},
     "output_type": "execute_result"
    }
   ],
   "source": [
    "text4 = text3.splitlines()\n",
    "len(text4)"
   ]
  },
  {
   "cell_type": "code",
   "execution_count": 19,
   "id": "f3beb815",
   "metadata": {},
   "outputs": [
    {
     "data": {
      "text/plain": [
       "'P'"
      ]
     },
     "execution_count": 19,
     "metadata": {},
     "output_type": "execute_result"
    }
   ],
   "source": [
    "text4[0]"
   ]
  },
  {
   "cell_type": "code",
   "execution_count": 20,
   "id": "17fe2eb7",
   "metadata": {},
   "outputs": [
    {
     "data": {
      "text/plain": [
       "'Project Scenario\\nIn this assignment, you are a Data Analyst working at a Real Estate Investment Trust. The Trust would like to start investing in Residential real estate. You are tasked with determining the market price of a house given a set of features. You will analyze and predict housing prices using attributes or features such as square footage, number of bedrooms, number of floors, and so on. A template notebook is provided in the lab; your job is to complete the ten questions. Some hints to the questions are given in the template notebook.'"
      ]
     },
     "execution_count": 20,
     "metadata": {},
     "output_type": "execute_result"
    }
   ],
   "source": [
    "f = open(r\"C:\\Users\\vaish\\OneDrive\\Documents\\Project Scenario.txt\",'r')\n",
    "text4 = f.read()\n",
    "text4"
   ]
  },
  {
   "cell_type": "code",
   "execution_count": 21,
   "id": "80896dee",
   "metadata": {},
   "outputs": [
    {
     "data": {
      "text/plain": [
       "552"
      ]
     },
     "execution_count": 21,
     "metadata": {},
     "output_type": "execute_result"
    }
   ],
   "source": [
    "len(text4)"
   ]
  },
  {
   "cell_type": "code",
   "execution_count": 32,
   "id": "674c3731",
   "metadata": {},
   "outputs": [
    {
     "data": {
      "text/plain": [
       "'Project Scenario'"
      ]
     },
     "execution_count": 32,
     "metadata": {},
     "output_type": "execute_result"
    }
   ],
   "source": [
    "text5 = text4.splitlines()\n",
    "text5[0]"
   ]
  },
  {
   "cell_type": "code",
   "execution_count": 33,
   "id": "1c9b285f",
   "metadata": {},
   "outputs": [
    {
     "data": {
      "text/plain": [
       "'In this assignment, you are a Data Analyst working at a Real Estate Investment Trust. The Trust would like to start investing in Residential real estate. You are tasked with determining the market price of a house given a set of features. You will analyze and predict housing prices using attributes or features such as square footage, number of bedrooms, number of floors, and so on. A template notebook is provided in the lab; your job is to complete the ten questions. Some hints to the questions are given in the template notebook.'"
      ]
     },
     "execution_count": 33,
     "metadata": {},
     "output_type": "execute_result"
    }
   ],
   "source": [
    "text5[1]"
   ]
  },
  {
   "cell_type": "code",
   "execution_count": null,
   "id": "b2f71573",
   "metadata": {},
   "outputs": [],
   "source": []
  }
 ],
 "metadata": {
  "kernelspec": {
   "display_name": "Python 3 (ipykernel)",
   "language": "python",
   "name": "python3"
  },
  "language_info": {
   "codemirror_mode": {
    "name": "ipython",
    "version": 3
   },
   "file_extension": ".py",
   "mimetype": "text/x-python",
   "name": "python",
   "nbconvert_exporter": "python",
   "pygments_lexer": "ipython3",
   "version": "3.9.13"
  }
 },
 "nbformat": 4,
 "nbformat_minor": 5
}
